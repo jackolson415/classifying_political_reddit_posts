{
 "cells": [
  {
   "cell_type": "markdown",
   "metadata": {},
   "source": [
    "# Using NLP to Flag Political Reddit Posts"
   ]
  },
  {
   "cell_type": "markdown",
   "metadata": {},
   "source": [
    "Reddit.com is a aggregation website for a wide variety of forums, called subreddits. One of the most popular aspects of Reddit is it's upvote/downvote system. This voting system allows the community to self-moderate, but only to a certain extent. As Reddit has grown in popularity and size over the years the need for dedicated moderation has grown.\n",
    "\n",
    "For Reddit moderators to effectively work they use a variety of tools. This project is to make another tool for them: a flagging system that identifies posts that are political.\n",
    "\n",
    "**The goal of this project is to make a model that accurately flags AskReddit posts that are political in nature.** To do this I will use NLP to classify posts into either AskReddit or Poltics. If a post on AskReddit is identified as belonging in Politics it would be flagged and sent to the moderator."
   ]
  },
  {
   "cell_type": "markdown",
   "metadata": {},
   "source": [
    "### Read in Data"
   ]
  },
  {
   "cell_type": "code",
   "execution_count": 3,
   "metadata": {},
   "outputs": [],
   "source": [
    "#imports\n",
    "import pandas as pd\n",
    "import numpy as np\n",
    "import matplotlib.pyplot as plt\n",
    "from sklearn.model_selection import train_test_split, GridSearchCV\n",
    "from sklearn.pipeline import Pipeline\n",
    "from sklearn.naive_bayes import MultinomialNB\n",
    "from sklearn.linear_model import LogisticRegression\n",
    "from sklearn.metrics import confusion_matrix, plot_confusion_matrix\n",
    "from sklearn.feature_extraction.text import CountVectorizer, TfidfVectorizer"
   ]
  },
  {
   "cell_type": "code",
   "execution_count": 4,
   "metadata": {},
   "outputs": [],
   "source": [
    "#read in dataframes that were preapred in data_collection.ipynb\n",
    "ar_df = pd.read_csv('./data/askredditcopy.csv', index_col = 'Unnamed: 0')\n",
    "pol_df = pd.read_csv('./data/politicscopy.csv', index_col = 'Unnamed: 0')"
   ]
  },
  {
   "cell_type": "code",
   "execution_count": 5,
   "metadata": {},
   "outputs": [],
   "source": [
    "#add these dataframes together to create the dataframe to be used for modeling\n",
    "df = pd.concat([ar_df, pol_df], axis = 0)"
   ]
  },
  {
   "cell_type": "code",
   "execution_count": 6,
   "metadata": {},
   "outputs": [],
   "source": [
    "#binarize subreddit column\n",
    "df['is_pol'] = df['subreddit'].map({'politics': 1, 'AskReddit': 0})\n",
    "df.drop(columns = 'subreddit', inplace = True)"
   ]
  },
  {
   "cell_type": "code",
   "execution_count": 7,
   "metadata": {},
   "outputs": [
    {
     "data": {
      "text/plain": [
       "1    3000\n",
       "0    3000\n",
       "Name: is_pol, dtype: int64"
      ]
     },
     "execution_count": 7,
     "metadata": {},
     "output_type": "execute_result"
    }
   ],
   "source": [
    "#check shape of dataframe\n",
    "df['is_pol'].value_counts()"
   ]
  },
  {
   "cell_type": "code",
   "execution_count": 8,
   "metadata": {},
   "outputs": [
    {
     "data": {
      "text/html": [
       "<div>\n",
       "<style scoped>\n",
       "    .dataframe tbody tr th:only-of-type {\n",
       "        vertical-align: middle;\n",
       "    }\n",
       "\n",
       "    .dataframe tbody tr th {\n",
       "        vertical-align: top;\n",
       "    }\n",
       "\n",
       "    .dataframe thead th {\n",
       "        text-align: right;\n",
       "    }\n",
       "</style>\n",
       "<table border=\"1\" class=\"dataframe\">\n",
       "  <thead>\n",
       "    <tr style=\"text-align: right;\">\n",
       "      <th></th>\n",
       "      <th>title</th>\n",
       "      <th>is_pol</th>\n",
       "    </tr>\n",
       "  </thead>\n",
       "  <tbody>\n",
       "    <tr>\n",
       "      <th>0</th>\n",
       "      <td>Would you be willing to donate to someone who ...</td>\n",
       "      <td>0</td>\n",
       "    </tr>\n",
       "    <tr>\n",
       "      <th>1</th>\n",
       "      <td>What's the most memorable thing you've seen on...</td>\n",
       "      <td>0</td>\n",
       "    </tr>\n",
       "    <tr>\n",
       "      <th>2</th>\n",
       "      <td>Who do you follow? At this point in my life I ...</td>\n",
       "      <td>0</td>\n",
       "    </tr>\n",
       "    <tr>\n",
       "      <th>3</th>\n",
       "      <td>Colorblind people on Reddit, what was the last...</td>\n",
       "      <td>0</td>\n",
       "    </tr>\n",
       "    <tr>\n",
       "      <th>4</th>\n",
       "      <td>What did you do recently that took courage?</td>\n",
       "      <td>0</td>\n",
       "    </tr>\n",
       "  </tbody>\n",
       "</table>\n",
       "</div>"
      ],
      "text/plain": [
       "                                               title  is_pol\n",
       "0  Would you be willing to donate to someone who ...       0\n",
       "1  What's the most memorable thing you've seen on...       0\n",
       "2  Who do you follow? At this point in my life I ...       0\n",
       "3  Colorblind people on Reddit, what was the last...       0\n",
       "4        What did you do recently that took courage?       0"
      ]
     },
     "execution_count": 8,
     "metadata": {},
     "output_type": "execute_result"
    }
   ],
   "source": [
    "df.head()"
   ]
  },
  {
   "cell_type": "code",
   "execution_count": 9,
   "metadata": {},
   "outputs": [],
   "source": [
    "X = df['title']\n",
    "y = df['is_pol']\n",
    "\n",
    "#train test split data\n",
    "X_train, X_test, y_train, y_test = train_test_split(X, y, test_size=0.33, stratify=y, random_state=42)"
   ]
  },
  {
   "cell_type": "markdown",
   "metadata": {},
   "source": [
    "### Define functions"
   ]
  },
  {
   "cell_type": "code",
   "execution_count": 10,
   "metadata": {},
   "outputs": [],
   "source": [
    "#these functions are used for all three models\n",
    "def score_model(gs_name):\n",
    "    '''Prints the best score, the best parameters, the training score, and the testing score of the input gridsearch '''\n",
    "    print('GS Best Score:', gs_name.best_score_)\n",
    "    print('GS Best Params:', gs_name.best_params_)\n",
    "    print('Training Score:', gs_name.score(X_train, y_train))\n",
    "    print('Testing Score:', gs_name.score(X_test, y_test))\n",
    "  \n",
    "def create_confusion_matrix(gs_name):\n",
    "    '''Plots a confusion matrix for a binary classification gridsearch'''\n",
    "    # Get predictions\n",
    "    preds = gs_name.predict(X_test)\n",
    "    # Save confusion matrix values\n",
    "    tn, fp, fn, tp = confusion_matrix(y_test, preds).ravel()\n",
    "    plot_confusion_matrix(gs_name, X_test, y_test, cmap='Blues', values_format='d');\n",
    "    \n",
    "def flagged_ar_posts_to_csv(gs_name, model_name):\n",
    "    '''Exports to csv whichever AskReddit posts the input model flagged as political'''\n",
    "    preds_ar = gs_name.predict(ar_df['title'])\n",
    "    ar_df['predicted'] = preds_ar\n",
    "    predicted_political_ar = ar_df[ar_df['predicted'] == 1]\n",
    "    predicted_political_ar.to_csv(f\"./results/results_{model_name}.csv\")"
   ]
  },
  {
   "cell_type": "markdown",
   "metadata": {},
   "source": [
    "# Model Using Count Vectorizer, Naive Bayes"
   ]
  },
  {
   "cell_type": "code",
   "execution_count": 11,
   "metadata": {},
   "outputs": [
    {
     "name": "stdout",
     "output_type": "stream",
     "text": [
      "GS Best Score: 0.9634328358208956\n",
      "GS Best Params: {'cvec__max_df': 0.9, 'cvec__max_features': 4000, 'cvec__min_df': 2, 'cvec__ngram_range': (1, 2)}\n",
      "Training Score: 0.9746268656716418\n",
      "Testing Score: 0.9555555555555556\n"
     ]
    }
   ],
   "source": [
    "#create pipeline\n",
    "pipe = Pipeline([\n",
    "    ('cvec', CountVectorizer()),\n",
    "    ('nb', MultinomialNB())\n",
    "])\n",
    "\n",
    "#parameter dictionary used for gridsearch\n",
    "pipe_params = {\n",
    "    'cvec__max_features': [2_000, 3_000, 4_000, 5_000],\n",
    "    'cvec__min_df': [2, 3],\n",
    "    'cvec__max_df': [.9, .95],\n",
    "    'cvec__ngram_range': [(1,1), (1,2)]\n",
    "}\n",
    "\n",
    "#search for optimal parameters in parameter dictionary\n",
    "gs = GridSearchCV(pipe, \n",
    "                  param_grid=pipe_params, \n",
    "                  cv=5) \n",
    "\n",
    "gs.fit(X_train, y_train)\n",
    "\n",
    "score_model(gs)"
   ]
  },
  {
   "cell_type": "code",
   "execution_count": 12,
   "metadata": {},
   "outputs": [
    {
     "data": {
      "image/png": "[encoded data removed]",
      "text/plain": [
       "<Figure size 432x288 with 2 Axes>"
      ]
     },
     "metadata": {
      "needs_background": "light"
     },
     "output_type": "display_data"
    }
   ],
   "source": [
    "create_confusion_matrix(gs)\n",
    "flagged_ar_posts_to_csv(gs, model_name = 'cv')"
   ]
  },
  {
   "cell_type": "markdown",
   "metadata": {},
   "source": [
    "In the confusion matrix above we see that only 18 of the 1000 askreddit posts in the testing set were flagged as being political. Of all 3000, the csv file in the results folder has the 29 that were classified as political. Of those 29, only 9 are clearly political.\n",
    "\n",
    "Since this model is designed to save moderators time, it's generally better to \"miss\" political posts (also known as false negatives) than it is to flag posts that are not political (also known as false positives). This is becasuse flagging too many posts would be difficult for moderators to read through.\n",
    "\n",
    "One problem with this model is we do not know the number of \"missed\" poltical posts. Without actually reading through all 3000 posts we can't know the true number of political posts in the dataset. Without reading through all 3000 posts the best we can do is calculate the percentage of flagged posts that are actually political. And in this case it is 9 out of 29, or 31.0%."
   ]
  },
  {
   "cell_type": "markdown",
   "metadata": {},
   "source": [
    "# Model Using TFIDF Vectorizer, Naive Bayes"
   ]
  },
  {
   "cell_type": "code",
   "execution_count": 13,
   "metadata": {},
   "outputs": [
    {
     "name": "stdout",
     "output_type": "stream",
     "text": [
      "GS Best Score: 0.9599502487562189\n",
      "GS Best Params: {'tvec__max_features': 4000, 'tvec__ngram_range': (1, 2), 'tvec__stop_words': None}\n",
      "Training Score: 0.9743781094527363\n",
      "Testing Score: 0.9545454545454546\n"
     ]
    }
   ],
   "source": [
    "#create pipeline\n",
    "pipe_tvec = Pipeline([\n",
    "    ('tvec', TfidfVectorizer()),\n",
    "    ('nb', MultinomialNB())\n",
    "])\n",
    "\n",
    "#parameter dictionary used for gridsearch\n",
    "pipe_tvec_params = {\n",
    "    'tvec__max_features': [2_000, 3_000, 4_000, 5_000],\n",
    "    'tvec__stop_words': [None, 'english'],\n",
    "    'tvec__ngram_range': [(1,1), (1,2)]\n",
    "}\n",
    "\n",
    "#search for optimal parameters in parameter dictionary\n",
    "gs_tvec = GridSearchCV(pipe_tvec, # what object are we optimizing?\n",
    "                        param_grid = pipe_tvec_params, # what parameters values are we searching?\n",
    "                        cv=5) # 5-fold cross-validation.\n",
    "\n",
    "gs_tvec.fit(X_train, y_train)\n",
    "\n",
    "score_model(gs_tvec)"
   ]
  },
  {
   "cell_type": "code",
   "execution_count": 14,
   "metadata": {},
   "outputs": [
    {
     "data": {
      "image/png": "[encoded data removed]",
      "text/plain": [
       "<Figure size 432x288 with 2 Axes>"
      ]
     },
     "metadata": {
      "needs_background": "light"
     },
     "output_type": "display_data"
    }
   ],
   "source": [
    "create_confusion_matrix(gs_tvec)\n",
    "flagged_ar_posts_to_csv(gs_tvec, model_name = 'tvec')"
   ]
  },
  {
   "cell_type": "markdown",
   "metadata": {},
   "source": [
    "The results of this TFIDF model are very similar to the Count Vectorizer model. The testing score is lower, meaning that about .1% more posts are classifed into the wrong subreddit.\n",
    "\n",
    "The number of flagged posts is very low once again. Only 26 of the 3000 posts in the dataet were flagged. And almost all of them are contained in the flagged posts of the first model.\n",
    "\n",
    "Considering the lower testing score and the lack of advantages over the first model it's safe to say that the Count Vectorizer model remains our best for this purpose."
   ]
  },
  {
   "cell_type": "markdown",
   "metadata": {},
   "source": [
    "# Model Using Count Vecotrizer, Logistic Regression"
   ]
  },
  {
   "cell_type": "code",
   "execution_count": 15,
   "metadata": {},
   "outputs": [
    {
     "name": "stdout",
     "output_type": "stream",
     "text": [
      "GS Best Score: 0.9634328358208956\n",
      "GS Best Params: {'cvec__max_df': 0.9, 'cvec__max_features': 2000, 'cvec__min_df': 2, 'cvec__ngram_range': (1, 2)}\n",
      "Training Score: 0.9885572139303482\n",
      "Testing Score: 0.953030303030303\n"
     ]
    }
   ],
   "source": [
    "#create pipeline\n",
    "pipe_log = Pipeline([\n",
    "    ('cvec', CountVectorizer()),\n",
    "    ('lr', LogisticRegression())\n",
    "])\n",
    "\n",
    "#parameter dictionary used for gridsearch\n",
    "pipe_log_params = {\n",
    "    'cvec__max_features': [2_000, 3_000, 4_000, 5_000],\n",
    "    'cvec__min_df': [2, 3],\n",
    "    'cvec__max_df': [.9, .95],\n",
    "    'cvec__ngram_range': [(1,1), (1,2)]\n",
    "}\n",
    "\n",
    "#search for optimal parameters in parameter dictionary\n",
    "gs_log = GridSearchCV(pipe_log, # what object are we optimizing?\n",
    "                  param_grid=pipe_log_params, # what parameters values are we searching?\n",
    "                  cv=5) # 5-fold cross-validation.\n",
    "\n",
    "gs_log.fit(X_train, y_train)\n",
    "\n",
    "score_model(gs_log)"
   ]
  },
  {
   "cell_type": "code",
   "execution_count": 16,
   "metadata": {},
   "outputs": [
    {
     "data": {
      "image/png": "[encoded data removed]",
      "text/plain": [
       "<Figure size 432x288 with 2 Axes>"
      ]
     },
     "metadata": {
      "needs_background": "light"
     },
     "output_type": "display_data"
    }
   ],
   "source": [
    "create_confusion_matrix(gs_log)\n",
    "flagged_ar_posts_to_csv(gs_log, model_name = 'log')"
   ]
  },
  {
   "cell_type": "markdown",
   "metadata": {},
   "source": [
    "The testing score of the logistic regresion model is about .2% lower than our previous best, the Count Vectorizer model. The testing score of this model is the highest of the three, indicating that the logistic regression model is more overfit than other models.\n",
    "\n",
    "The major difference between the logistic regression model and the other models is that more posts were flagged. Without reading the flagged posts we do not know if that is good or bad. After all, the goal is to flag political posts, not classify posts into the correct subreddit.\n",
    "\n",
    "Out of all 3000 posts in the dataset this model flagged 75 of them. Of those 75 only 15 are political. That comes out to a correct flag rate of 20.0%, compared to 31.0% for the Count Vectorizer model. Depending on how fast we can process flagged posts it might be advisable to use this model because it flags more posts even though it has a lower correct flag rate."
   ]
  },
  {
   "cell_type": "markdown",
   "metadata": {},
   "source": [
    "## Conclusion"
   ]
  },
  {
   "cell_type": "markdown",
   "metadata": {},
   "source": [
    "In this project I set out to identify and flag for removal AskReddit posts that are political in nature. Therefore the success of these models is measured by what percentage of flagged AskReddit posts are political. \n",
    "\n",
    "The advantage of these models was a high testing score. About 95% of posts were correclty classfied into the subreddit where they were submitted. It follows that a model with this degree of accuracy would be able to predict which posts do not belong in the subreddit where they were posted.\n",
    "\n",
    "There are several areas for futher development in this project. For one, we do not know how many political posts were in the entire dataset. That makes us unable to measure how many political posts were not flagged. When doing my EDA I did see that the number of political posts in the dataset appeared to be very low. It would be better to conduct this analysis with posts during a more political time such as shortly before a presidential election.\n",
    "\n",
    "Another weakness of this analysis is that upvotes and downvotes were ignored. It would be better to do this analysis only on posts with 50 upvotes or above. Ignoring the voting system made a lot of the dataset low-effort spam posts or childish in nature. Only putting posts with 50+ upvotes into the model would be a better use of moderator time. It would ensure they are only worrying about posts that are likely to get signifigant visibility.\n",
    "\n",
    "In conclusion, these models were effective at classifying posts to the subreddit where they were posted. But to use them as a moderation tool we would want to increase the correct flag rate."
   ]
  },
  {
   "cell_type": "code",
   "execution_count": null,
   "metadata": {},
   "outputs": [],
   "source": [
    "\n",
    "en_params = { "
   ]
  }
 ],
 "metadata": {
  "kernelspec": {
   "display_name": "Python 3",
   "language": "python",
   "name": "python3"
  },
  "language_info": {
   "codemirror_mode": {
    "name": "ipython",
    "version": 3
   },
   "file_extension": ".py",
   "mimetype": "text/x-python",
   "name": "python",
   "nbconvert_exporter": "python",
   "pygments_lexer": "ipython3",
   "version": "3.8.5"
  }
 },
 "nbformat": 4,
 "nbformat_minor": 4
}
